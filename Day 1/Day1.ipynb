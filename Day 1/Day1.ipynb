{
 "cells": [
  {
   "cell_type": "code",
   "execution_count": null,
   "metadata": {},
   "outputs": [],
   "source": [
    "%load_ext autotime"
   ]
  },
  {
   "cell_type": "raw",
   "metadata": {},
   "source": [
    "https://adventofcode.com/2020/day/1\n",
    "    \n",
    "--- Day 1: Report Repair ---\n",
    "After saving Christmas five years in a row, you've decided to take a vacation at a nice resort on a tropical island. Surely, Christmas will go on without you.\n",
    "\n",
    "The tropical island has its own currency and is entirely cash-only. The gold coins used there have a little picture of a starfish; the locals just call them stars. None of the currency exchanges seem to have heard of them, but somehow, you'll need to find fifty of these coins by the time you arrive so you can pay the deposit on your room.\n",
    "\n",
    "To save your vacation, you need to get all fifty stars by December 25th.\n",
    "\n",
    "Collect stars by solving puzzles. Two puzzles will be made available on each day in the Advent calendar; the second puzzle is unlocked when you complete the first. Each puzzle grants one star. Good luck!\n",
    "\n",
    "Before you leave, the Elves in accounting just need you to fix your expense report (your puzzle input); apparently, something isn't quite adding up.\n",
    "\n",
    "Specifically, they need you to find the two entries that sum to 2020 and then multiply those two numbers together.\n",
    "\n",
    "For example, suppose your expense report contained the following:\n",
    "\n",
    "1721\n",
    "979\n",
    "366\n",
    "299\n",
    "675\n",
    "1456\n",
    "In this list, the two entries that sum to 2020 are 1721 and 299. Multiplying them together produces 1721 * 299 = 514579, so the correct answer is 514579.\n",
    "\n",
    "Of course, your expense report is much larger. Find the two entries that sum to 2020; what do you get if you multiply them together?"
   ]
  },
  {
   "cell_type": "code",
   "execution_count": 43,
   "metadata": {},
   "outputs": [
    {
     "name": "stdout",
     "output_type": "stream",
     "text": [
      "987 1033 1868 1019571\n",
      "1033 987 1868 1019571\n",
      "1019571\n",
      "Done.\n"
     ]
    }
   ],
   "source": [
    "input = open(\"day1.txt\", 'r')\n",
    "\n",
    "answer = 0\n",
    "\n",
    "def sum2020(x, y):\n",
    "    ans = x + y\n",
    "    if ans == 2020:\n",
    "        return x*y\n",
    "    return -1\n",
    "\n",
    "a = []\n",
    "b = []\n",
    "for i in input:\n",
    "    a.append(int(i))\n",
    "    b.append(int(i))\n",
    "\n",
    "for x in a:\n",
    "    for y in b:\n",
    "        #print(sum2020(x, y))\n",
    "        if sum2020(x, y) > 0:\n",
    "            answer = sum2020(x, y)\n",
    "            print(x, y, z, answer)\n",
    "       \n",
    "print(answer)\n",
    "print(\"Done.\")\n"
   ]
  },
  {
   "cell_type": "raw",
   "metadata": {},
   "source": [
    "Your puzzle answer was 1019571.\n",
    "\n",
    "The first half of this puzzle is complete! It provides one gold star: *\n",
    "\n",
    "--- Part Two ---\n",
    "The Elves in accounting are thankful for your help; one of them even offers you a starfish coin they had left over from a past vacation. They offer you a second one if you can find three numbers in your expense report that meet the same criteria.\n",
    "\n",
    "Using the above example again, the three entries that sum to 2020 are 979, 366, and 675. Multiplying them together produces the answer, 241861950.\n",
    "\n",
    "In your expense report, what is the product of the three entries that sum to 2020?"
   ]
  },
  {
   "cell_type": "code",
   "execution_count": 39,
   "metadata": {},
   "outputs": [
    {
     "name": "stdout",
     "output_type": "stream",
     "text": [
      "100655544\n",
      "Done.\n"
     ]
    }
   ],
   "source": [
    "input = open(\"day1.txt\", 'r')\n",
    "\n",
    "answer = 0\n",
    "\n",
    "def sum2020(x, y, z):\n",
    "    ans = x + y +z\n",
    "    if ans == 2020:\n",
    "        return x*y*z\n",
    "    return -1\n",
    "\n",
    "a = []\n",
    "b = []\n",
    "c = []\n",
    "for i in input:\n",
    "    a.append(int(i))\n",
    "    b.append(int(i))\n",
    "    c.append(int(i))\n",
    "\n",
    "for x in a:\n",
    "    for y in b:\n",
    "        for z in c:\n",
    "            #print(sum2020(x, y))\n",
    "            if sum2020(x, y, z) > 0:\n",
    "                answer = sum2020(x, y, z)\n",
    "       \n",
    "print(answer)\n",
    "print(\"Done.\")\n"
   ]
  },
  {
   "cell_type": "raw",
   "metadata": {},
   "source": [
    "Your puzzle answer was 100655544.\n",
    "\n",
    "Both parts of this puzzle are complete! They provide two gold stars: **\n",
    "\n",
    "At this point, you should return to your Advent calendar and try another puzzle.\n",
    "\n",
    "If you still want to see it, you can get your puzzle input.\n",
    "\n",
    "You can also [Share] this puzzle."
   ]
  }
 ],
 "metadata": {
  "kernelspec": {
   "display_name": "Python 3",
   "language": "python",
   "name": "python3"
  },
  "language_info": {
   "codemirror_mode": {
    "name": "ipython",
    "version": 3
   },
   "file_extension": ".py",
   "mimetype": "text/x-python",
   "name": "python",
   "nbconvert_exporter": "python",
   "pygments_lexer": "ipython3",
   "version": "3.7.4"
  }
 },
 "nbformat": 4,
 "nbformat_minor": 4
}
