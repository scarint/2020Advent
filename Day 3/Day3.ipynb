{
 "cells": [
  {
   "cell_type": "markdown",
   "metadata": {},
   "source": [
    "# %load_ext autotime"
   ]
  },
  {
   "cell_type": "raw",
   "metadata": {},
   "source": [
    "--- Day 3: Toboggan Trajectory ---\n",
    "With the toboggan login problems resolved, you set off toward the airport. While travel by toboggan might be easy, it's certainly not safe: there's very minimal steering and the area is covered in trees. You'll need to see which angles will take you near the fewest trees.\n",
    "\n",
    "Due to the local geology, trees in this area only grow on exact integer coordinates in a grid. You make a map (your puzzle input) of the open squares (.) and trees (#) you can see. For example:\n",
    "\n",
    "..##.......\n",
    "#...#...#..\n",
    ".#....#..#.\n",
    "..#.#...#.#\n",
    ".#...##..#.\n",
    "..#.##.....\n",
    ".#.#.#....#\n",
    ".#........#\n",
    "#.##...#...\n",
    "#...##....#\n",
    ".#..#...#.#\n",
    "These aren't the only trees, though; due to something you read about once involving arboreal genetics and biome stability, the same pattern repeats to the right many times:\n",
    "\n",
    "..##.........##.........##.........##.........##.........##.......  --->\n",
    "#...#...#..#...#...#..#...#...#..#...#...#..#...#...#..#...#...#..\n",
    ".#....#..#..#....#..#..#....#..#..#....#..#..#....#..#..#....#..#.\n",
    "..#.#...#.#..#.#...#.#..#.#...#.#..#.#...#.#..#.#...#.#..#.#...#.#\n",
    ".#...##..#..#...##..#..#...##..#..#...##..#..#...##..#..#...##..#.\n",
    "..#.##.......#.##.......#.##.......#.##.......#.##.......#.##.....  --->\n",
    ".#.#.#....#.#.#.#....#.#.#.#....#.#.#.#....#.#.#.#....#.#.#.#....#\n",
    ".#........#.#........#.#........#.#........#.#........#.#........#\n",
    "#.##...#...#.##...#...#.##...#...#.##...#...#.##...#...#.##...#...\n",
    "#...##....##...##....##...##....##...##....##...##....##...##....#\n",
    ".#..#...#.#.#..#...#.#.#..#...#.#.#..#...#.#.#..#...#.#.#..#...#.#  --->\n",
    "You start on the open square (.) in the top-left corner and need to reach the bottom (below the bottom-most row on your map).\n",
    "\n",
    "The toboggan can only follow a few specific slopes (you opted for a cheaper model that prefers rational numbers); start by counting all the trees you would encounter for the slope right 3, down 1:\n",
    "\n",
    "From your starting position at the top-left, check the position that is right 3 and down 1. Then, check the position that is right 3 and down 1 from there, and so on until you go past the bottom of the map.\n",
    "\n",
    "The locations you'd check in the above example are marked here with O where there was an open square and X where there was a tree:\n",
    "\n",
    "..##.........##.........##.........##.........##.........##.......  --->\n",
    "#..O#...#..#...#...#..#...#...#..#...#...#..#...#...#..#...#...#..\n",
    ".#....X..#..#....#..#..#....#..#..#....#..#..#....#..#..#....#..#.\n",
    "..#.#...#O#..#.#...#.#..#.#...#.#..#.#...#.#..#.#...#.#..#.#...#.#\n",
    ".#...##..#..X...##..#..#...##..#..#...##..#..#...##..#..#...##..#.\n",
    "..#.##.......#.X#.......#.##.......#.##.......#.##.......#.##.....  --->\n",
    ".#.#.#....#.#.#.#.O..#.#.#.#....#.#.#.#....#.#.#.#....#.#.#.#....#\n",
    ".#........#.#........X.#........#.#........#.#........#.#........#\n",
    "#.##...#...#.##...#...#.X#...#...#.##...#...#.##...#...#.##...#...\n",
    "#...##....##...##....##...#X....##...##....##...##....##...##....#\n",
    ".#..#...#.#.#..#...#.#.#..#...X.#.#..#...#.#.#..#...#.#.#..#...#.#  --->\n",
    "In this example, traversing the map using this slope would cause you to encounter 7 trees.\n",
    "\n",
    "Starting at the top-left corner of your map and following a slope of right 3 and down 1, how many trees would you encounter?"
   ]
  },
  {
   "cell_type": "code",
   "execution_count": 112,
   "metadata": {},
   "outputs": [
    {
     "name": "stdout",
     "output_type": "stream",
     "text": [
      "Width:  31\n",
      "Height: 323\n",
      "156\n",
      "time: 8.97 ms\n"
     ]
    }
   ],
   "source": [
    "def numTrees(rise, run):\n",
    "    trees = 0\n",
    "    empties = 0\n",
    "\n",
    "    #if forest[0][0] == '#':\n",
    "    #    trees = trees + 1\n",
    "    #else:\n",
    "    #    empties = empties + 1\n",
    "\n",
    "    i = 0\n",
    "    for steps in range (0, height, rise):        \n",
    "        srun = (run * i)                # i because rise may be greater than 1, i will increment by 1 always\n",
    "        trunc = int(srun / width)       # trunc is how many times we \"wrap around\" to be beginning\n",
    "        srun = srun - (trunc * width)   # Remainder after wrapping around\n",
    "        \n",
    "        if forest[steps][srun] == '#':\n",
    "            trees = trees + 1\n",
    "        else:\n",
    "            empties = empties + 1\n",
    "        i = i + 1\n",
    "        #print(\"Step: \" + str(steps))\n",
    "    return trees\n",
    "\n",
    "####################################################\n",
    "\n",
    "input = open(\"Day3.txt\", 'r')\n",
    "\n",
    "run =    3\n",
    "rise =   1\n",
    "width =  0\n",
    "height = 0\n",
    "\n",
    "width = len(input.readline()) - 1\n",
    "#print(input.readline())\n",
    "print(\"Width:  \" + str(width))\n",
    "#print(input.readline())\n",
    "#print()\n",
    "\n",
    "input.seek(0)          # Return to beginning of input\n",
    "forest = []\n",
    "for line in input:\n",
    "    #print(line)\n",
    "    height = height + 1\n",
    "    if line[-1] == '\\n':\n",
    "        forest.append(line[:-1])\n",
    "    else:\n",
    "        forest.append(line)\n",
    "\n",
    "print(\"Height: \" + str(height))        \n",
    "\n",
    "trees = numTrees(rise, run)\n",
    "\n",
    "print(trees)\n",
    "\n"
   ]
  },
  {
   "cell_type": "raw",
   "metadata": {},
   "source": [
    "Your puzzle answer was 156.\n",
    "\n",
    "The first half of this puzzle is complete! It provides one gold star: *\n",
    "\n",
    "--- Part Two ---\n",
    "Time to check the rest of the slopes - you need to minimize the probability of a sudden arboreal stop, after all.\n",
    "\n",
    "Determine the number of trees you would encounter if, for each of the following slopes, you start at the top-left corner and traverse the map all the way to the bottom:\n",
    "\n",
    "Right 1, down 1.\n",
    "Right 3, down 1. (This is the slope you already checked.)\n",
    "Right 5, down 1.\n",
    "Right 7, down 1.\n",
    "Right 1, down 2.\n",
    "In the above example, these slopes would find 2, 7, 3, 4, and 2 tree(s) respectively; multiplied together, these produce the answer 336.\n",
    "\n",
    "What do you get if you multiply together the number of trees encountered on each of the listed slopes?"
   ]
  },
  {
   "cell_type": "code",
   "execution_count": 113,
   "metadata": {},
   "outputs": [
    {
     "name": "stdout",
     "output_type": "stream",
     "text": [
      "One:     79\n",
      "Two:     156\n",
      "Three:   85\n",
      "Four:    82\n",
      "Five:    41\n",
      "Product: 3521829480\n",
      "time: 5.54 ms\n"
     ]
    }
   ],
   "source": [
    "\n",
    "one = numTrees(1, 1)\n",
    "two = numTrees(1, 3)\n",
    "three = numTrees(1, 5)\n",
    "four = numTrees(1, 7)\n",
    "five = numTrees(2, 1)\n",
    "\n",
    "product = one * two * three * four * five\n",
    "print(\"One:     \" + str(one))\n",
    "print(\"Two:     \" + str(two))\n",
    "print(\"Three:   \" + str(three))\n",
    "print(\"Four:    \" + str(four))\n",
    "print(\"Five:    \" + str(five))\n",
    "print(\"Product: \" + str(product))\n",
    "\n",
    "#wrong\n",
    "#4380812280\n",
    "#4466710560\n",
    "#4523425450\n",
    "#"
   ]
  },
  {
   "cell_type": "raw",
   "metadata": {},
   "source": [
    "Your puzzle answer was 3521829480.\n",
    "\n",
    "Both parts of this puzzle are complete! They provide two gold stars: **\n",
    "\n",
    "At this point, you should return to your Advent calendar and try another puzzle."
   ]
  }
 ],
 "metadata": {
  "kernelspec": {
   "display_name": "Python 3",
   "language": "python",
   "name": "python3"
  },
  "language_info": {
   "codemirror_mode": {
    "name": "ipython",
    "version": 3
   },
   "file_extension": ".py",
   "mimetype": "text/x-python",
   "name": "python",
   "nbconvert_exporter": "python",
   "pygments_lexer": "ipython3",
   "version": "3.7.4"
  }
 },
 "nbformat": 4,
 "nbformat_minor": 4
}
