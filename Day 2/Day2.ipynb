{
 "cells": [
  {
   "cell_type": "code",
   "execution_count": 2,
   "metadata": {},
   "outputs": [
    {
     "name": "stdout",
     "output_type": "stream",
     "text": [
      "The autotime extension is already loaded. To reload it, use:\n",
      "  %reload_ext autotime\n",
      "time: 1.48 ms\n"
     ]
    }
   ],
   "source": [
    "%load_ext autotime"
   ]
  },
  {
   "cell_type": "raw",
   "metadata": {},
   "source": [
    "https://adventofcode.com/2020/day/2\n",
    "\n",
    "--- Day 2: Password Philosophy ---\n",
    "Your flight departs in a few days from the coastal airport; the easiest way down to the coast from here is via toboggan.\n",
    "\n",
    "The shopkeeper at the North Pole Toboggan Rental Shop is having a bad day. \"Something's wrong with our computers; we can't log in!\" You ask if you can take a look.\n",
    "\n",
    "Their password database seems to be a little corrupted: some of the passwords wouldn't have been allowed by the Official Toboggan Corporate Policy that was in effect when they were chosen.\n",
    "\n",
    "To try to debug the problem, they have created a list (your puzzle input) of passwords (according to the corrupted database) and the corporate policy when that password was set.\n",
    "\n",
    "For example, suppose you have the following list:\n",
    "\n",
    "1-3 a: abcde\n",
    "1-3 b: cdefg\n",
    "2-9 c: ccccccccc\n",
    "Each line gives the password policy and then the password. The password policy indicates the lowest and highest number of times a given letter must appear for the password to be valid. For example, 1-3 a means that the password must contain a at least 1 time and at most 3 times.\n",
    "\n",
    "In the above example, 2 passwords are valid. The middle password, cdefg, is not; it contains no instances of b, but needs at least 1. The first and third passwords are valid: they contain one a or nine c, both within the limits of their respective policies.\n",
    "\n",
    "How many passwords are valid according to their policies?"
   ]
  },
  {
   "cell_type": "code",
   "execution_count": 43,
   "metadata": {},
   "outputs": [
    {
     "name": "stdout",
     "output_type": "stream",
     "text": [
      "416\n",
      "time: 16.8 ms\n"
     ]
    }
   ],
   "source": [
    "input = open(\"Day2.txt\", 'r')\n",
    "\n",
    "min = []\n",
    "max = []\n",
    "letter = []\n",
    "password = []\n",
    "\n",
    "# Collect inputs\n",
    "for string in input:\n",
    "    min.append(int(string.split('-')[0]))                # First Number\n",
    "    max.append(int(string.split('-')[1].split(' ')[0]))  # Second number\n",
    "    letter.append(string.split(' ')[1].split(':')[0])    # Letter\n",
    "    pw = string.split(' ')[2]                            # Separate final password\n",
    "    if pw[-1] == '\\n':              # Check for newline\n",
    "        password.append(pw[:-1])    # Remove newline if present\n",
    "    else:\n",
    "        password.append(pw)\n",
    "\n",
    "i = 0\n",
    "valid = 0\n",
    "invalid = 0\n",
    "for word in password:\n",
    "    count = 0\n",
    "    for c in word:\n",
    "        if c == letter[i]:\n",
    "            count = count + 1\n",
    "    if count >= min[i] and count <= max[i]:\n",
    "        valid = valid + 1\n",
    "    else:\n",
    "        invalid = invalid + 1          \n",
    "    i = i + 1\n",
    "    \n",
    "    \n",
    "print(valid)"
   ]
  },
  {
   "cell_type": "raw",
   "metadata": {},
   "source": [
    "Your puzzle answer was 416.\n",
    "\n",
    "The first half of this puzzle is complete! It provides one gold star: *\n",
    "\n",
    "--- Part Two ---\n",
    "While it appears you validated the passwords correctly, they don't seem to be what the Official Toboggan Corporate Authentication System is expecting.\n",
    "\n",
    "The shopkeeper suddenly realizes that he just accidentally explained the password policy rules from his old job at the sled rental place down the street! The Official Toboggan Corporate Policy actually works a little differently.\n",
    "\n",
    "Each policy actually describes two positions in the password, where 1 means the first character, 2 means the second character, and so on. (Be careful; Toboggan Corporate Policies have no concept of \"index zero\"!) Exactly one of these positions must contain the given letter. Other occurrences of the letter are irrelevant for the purposes of policy enforcement.\n",
    "\n",
    "Given the same example list from above:\n",
    "\n",
    "1-3 a: abcde is valid: position 1 contains a and position 3 does not.\n",
    "1-3 b: cdefg is invalid: neither position 1 nor position 3 contains b.\n",
    "2-9 c: ccccccccc is invalid: both position 2 and position 9 contain c.\n",
    "How many passwords are valid according to the new interpretation of the policies?"
   ]
  },
  {
   "cell_type": "code",
   "execution_count": 42,
   "metadata": {},
   "outputs": [
    {
     "name": "stdout",
     "output_type": "stream",
     "text": [
      "688\n",
      "time: 15.8 ms\n"
     ]
    }
   ],
   "source": [
    "input = open(\"Day2.txt\", 'r')\n",
    "\n",
    "min = []\n",
    "max = []\n",
    "letter = []\n",
    "password = []\n",
    "\n",
    "# Collect inputs\n",
    "for string in input:\n",
    "    min.append(int(string.split('-')[0]))                # First Number\n",
    "    max.append(int(string.split('-')[1].split(' ')[0]))  # Second number\n",
    "    letter.append(string.split(' ')[1].split(':')[0])    # Letter\n",
    "    pw = string.split(' ')[2]                            # Separate final password\n",
    "    if pw[-1] == '\\n':              # Check for newline\n",
    "        password.append(pw[:-1])    # Remove newline if present\n",
    "    else:\n",
    "        password.append(pw)\n",
    "        \n",
    "#print(password)\n",
    "\n",
    "valid = 0\n",
    "invalid = 0\n",
    "i = 0\n",
    "for word in password:\n",
    "    #print(word)\n",
    "    pos1 = 0\n",
    "    pos2 = 0    \n",
    "    # Keep in mind we are NOT zero-indexed\n",
    "    \n",
    "    if min[i] <= len(word):             # If our first index is inside the range of the word\n",
    "        if word[min[i] - 1] == letter[i]:   # If our letter is at our first index\n",
    "            pos1 = 1                     # True\n",
    "            #print(\"first \" + word)\n",
    "        \n",
    "    if max[i] <= len(word):            # If our second index is inside the range of the word\n",
    "        if word[max[i] - 1] == letter[i]:  # If our letter is at our second index\n",
    "            pos2 = 1                    # True\n",
    "            #print(\"second \" + word)\n",
    "            \n",
    "    #if bool(pos1) != bool(pos2):        # Pythonic xor, 1 or 2 but not both\n",
    "    if (pos1 == 1 and pos2 == 0) or (pos1 == 0 and pos2 == 1):\n",
    "        valid = valid + 1\n",
    "        #print(word + \": valid\")\n",
    "    else:\n",
    "        invalid = invalid + 1\n",
    "        #print(word + \": invalid\")\n",
    "    i = i + 1\n",
    "        \n",
    "print(valid)\n",
    "\n",
    "    "
   ]
  },
  {
   "cell_type": "raw",
   "metadata": {},
   "source": [
    "Your puzzle answer was 688.\n",
    "\n",
    "Both parts of this puzzle are complete! They provide two gold stars: **\n",
    "\n",
    "At this point, you should return to your Advent calendar and try another puzzle."
   ]
  }
 ],
 "metadata": {
  "kernelspec": {
   "display_name": "Python 3",
   "language": "python",
   "name": "python3"
  },
  "language_info": {
   "codemirror_mode": {
    "name": "ipython",
    "version": 3
   },
   "file_extension": ".py",
   "mimetype": "text/x-python",
   "name": "python",
   "nbconvert_exporter": "python",
   "pygments_lexer": "ipython3",
   "version": "3.7.4"
  }
 },
 "nbformat": 4,
 "nbformat_minor": 4
}
